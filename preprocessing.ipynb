{
 "cells": [
  {
   "cell_type": "markdown",
   "metadata": {},
   "source": [
    "# Fetching the data"
   ]
  },
  {
   "cell_type": "code",
   "execution_count": null,
   "metadata": {},
   "outputs": [],
   "source": [
    "from langchain_community.utilities import WikipediaAPIWrapper\n",
    "# Initialize Wikipedia tool\n",
    "wikipedia = WikipediaAPIWrapper()\n",
    "results = []\n",
    "# Fetch content for a specific topic\n",
    "topics = [\"C plus plus ( Programming language )\",\n",
    "          \"C sharp ( Programming language )\",\n",
    "          \"Java ( Programming language )\",\n",
    "          \"Python ( Programming language )\",\n",
    "          \"Rust ( Programming language )\"]\n",
    "for topic in topics :\n",
    "    results.append(wikipedia.run(topic))"
   ]
  },
  {
   "cell_type": "markdown",
   "metadata": {},
   "source": [
    "# Cleaning the dataset"
   ]
  },
  {
   "cell_type": "code",
   "execution_count": null,
   "metadata": {},
   "outputs": [],
   "source": [
    "# Initialize a list to hold the extracted data\n",
    "extracted_data = []\n",
    "for document in results:\n",
    "    sections = document.split(\"Page:\")\n",
    "    # Iterate through each section\n",
    "    for section in sections:\n",
    "        if not section.strip():\n",
    "            continue  # Skip empty sections\n",
    "\n",
    "        lines = section.splitlines()\n",
    "        if not lines:\n",
    "            continue\n",
    "\n",
    "        # Extract the Page title (first line)\n",
    "        page_title = lines[0].strip()\n",
    "        # Find the index where Summary: starts\n",
    "        summary_index = -1\n",
    "        for i, line in enumerate(lines):\n",
    "            if line.strip().startswith(\"Summary:\"):\n",
    "                summary_index = i\n",
    "                break\n",
    "\n",
    "        if summary_index == -1:\n",
    "            continue  # Skip if \"Summary:\" not found\n",
    "\n",
    "        # Extract the Summary content\n",
    "        summary_content = \"\\n\".join(lines[summary_index+1:]).strip()\n",
    "\n",
    "        # Collect the extracted parts\n",
    "        extracted_data.append({\n",
    "            \"Page\": page_title,\n",
    "            \"Summary\": summary_content\n",
    "        })"
   ]
  },
  {
   "cell_type": "markdown",
   "metadata": {},
   "source": [
    "# Popping out the non relative documents"
   ]
  },
  {
   "cell_type": "code",
   "execution_count": null,
   "metadata": {},
   "outputs": [],
   "source": [
    "for i in [1,2,4,7,9,12,13][::-1]:\n",
    "    extracted_data.pop(i)"
   ]
  },
  {
   "cell_type": "markdown",
   "metadata": {},
   "source": [
    "# filtering"
   ]
  },
  {
   "cell_type": "code",
   "execution_count": null,
   "metadata": {},
   "outputs": [],
   "source": [
    "docs = []\n",
    "for i in extracted_data:\n",
    "    docs.append(i['Summary'])"
   ]
  },
  {
   "cell_type": "markdown",
   "metadata": {},
   "source": [
    "# Final tabs"
   ]
  },
  {
   "cell_type": "code",
   "execution_count": null,
   "metadata": {},
   "outputs": [],
   "source": [
    "tabs_col = ['C++','C Sharp','Java','Java Script','Python','Mojo','Rust']"
   ]
  },
  {
   "cell_type": "markdown",
   "metadata": {},
   "source": [
    "# Splitting the data to chuncks with overlap"
   ]
  },
  {
   "cell_type": "code",
   "execution_count": null,
   "metadata": {},
   "outputs": [],
   "source": [
    "def split_text_with_overlap(text, chunk_size=500, overlap_size=35):\n",
    "    chunks = []\n",
    "    start = 0\n",
    "    while start < len(text):\n",
    "        end = start + chunk_size\n",
    "        chunk = text[start:end]\n",
    "        chunks.append(chunk)\n",
    "        start += chunk_size - overlap_size\n",
    "    return chunks\n",
    "\n",
    "treated_docs = []\n",
    "for doc in docs :\n",
    "    chuncks = split_text_with_overlap(doc)\n",
    "    treated_docs.append(chuncks)\n"
   ]
  },
  {
   "cell_type": "markdown",
   "metadata": {},
   "source": [
    "# Setting up gemini with the api key"
   ]
  },
  {
   "cell_type": "code",
   "execution_count": null,
   "metadata": {},
   "outputs": [],
   "source": [
    "import google.generativeai as genai\n",
    "# Configure the Gemini API\n",
    "genai.configure(api_key='YOUR_GEMINI_API_KEY')"
   ]
  },
  {
   "cell_type": "markdown",
   "metadata": {},
   "source": [
    "# Embedding the chuncks for each document"
   ]
  },
  {
   "cell_type": "code",
   "execution_count": null,
   "metadata": {},
   "outputs": [],
   "source": [
    "def embed_documents(documents):\n",
    "    embeddings = []\n",
    "    for doc in documents:\n",
    "        embedding_result = genai.embed_content(\n",
    "            model='models/embedding-001',\n",
    "            content=doc\n",
    "        )\n",
    "        \n",
    "        # Extract the 'embedding' from the result\n",
    "        if 'embedding' in embedding_result:\n",
    "            embedding_vector = embedding_result['embedding']\n",
    "            embeddings.append(embedding_vector)\n",
    "        else:\n",
    "            print(f\"No 'embedding' field found for document: {doc}\")\n",
    "    \n",
    "    return embeddings\n",
    "\n",
    "\n",
    "embedded_docs = []\n",
    "counter = 0\n",
    "for treated_doc in treated_docs :\n",
    "    embedded_doc = embed_documents(treated_doc)\n",
    "    print(f\"Number of embedded documents: {len(embedded_doc)}\")\n",
    "\n",
    "    # Assuming embeddings are vectors, check the length of the first embedding\n",
    "    if embedded_doc and isinstance(embedded_doc[0], list):\n",
    "        print(f\"Embedding dimension: {len(embedded_doc[0])}\")\n",
    "    else:\n",
    "        print(\"The embedding is not in a list-like structure.\")\n",
    "\n",
    "    embedded_docs.append(embedded_doc)"
   ]
  },
  {
   "cell_type": "markdown",
   "metadata": {},
   "source": [
    "# Saving the embeddings and <br>the chuncks for each document"
   ]
  },
  {
   "cell_type": "code",
   "execution_count": null,
   "metadata": {},
   "outputs": [],
   "source": [
    "import faiss\n",
    "import numpy as np\n",
    "import os\n",
    "import json\n",
    "\n",
    "ppm = 0 \n",
    "for embedded_doc in embedded_docs:\n",
    "\n",
    "    # Convert embeddings to numpy array\n",
    "    embedding_dim = len(embedded_doc[0])\n",
    "    embedded_docs_np = np.array(embedded_doc).astype('float32')\n",
    "\n",
    "    # Normalize vectors for cosine similarity\n",
    "    faiss.normalize_L2(embedded_docs_np)\n",
    "\n",
    "    # Create and add vectors to FAISS index\n",
    "    index = faiss.IndexFlatIP(embedding_dim)\n",
    "    index.add(embedded_docs_np)\n",
    "\n",
    "    # Create save directory\n",
    "    save_folder = f\"{tabs_col[ppm]}\"\n",
    "    os.makedirs(save_folder, exist_ok=True)\n",
    "\n",
    "    # 1. Save FAISS index\n",
    "    index_path = os.path.join(save_folder, \"index.faiss\")\n",
    "    faiss.write_index(index, index_path)\n",
    "\n",
    "    # 2. Save documents and their metadata\n",
    "    doc_ids=[i for i in range(9)]\n",
    "    docs_mapping = {\n",
    "        str(i): {\n",
    "            \"text\": doc,\n",
    "            \"doc_id\": doc_id,\n",
    "        }\n",
    "        for i, (doc, doc_id) in enumerate(zip(treated_docs[ppm], doc_ids))\n",
    "    }\n",
    "\n",
    "    with open(os.path.join(save_folder, \"documents.json\"), \"w\") as f:\n",
    "        json.dump(docs_mapping, f)\n",
    "\n",
    "\n",
    "    print(f\"RAG system saved in {save_folder}\")\n",
    "    ppm+=1"
   ]
  },
  {
   "cell_type": "code",
   "execution_count": null,
   "metadata": {},
   "outputs": [],
   "source": []
  },
  {
   "cell_type": "code",
   "execution_count": null,
   "metadata": {},
   "outputs": [],
   "source": []
  },
  {
   "cell_type": "code",
   "execution_count": null,
   "metadata": {},
   "outputs": [],
   "source": []
  }
 ],
 "metadata": {
  "kernelspec": {
   "display_name": "Python 3",
   "language": "python",
   "name": "python3"
  },
  "language_info": {
   "name": "python",
   "version": "3.10.12"
  }
 },
 "nbformat": 4,
 "nbformat_minor": 2
}
